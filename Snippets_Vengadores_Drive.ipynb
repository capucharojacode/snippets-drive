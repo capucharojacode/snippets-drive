{
  "nbformat": 4,
  "nbformat_minor": 0,
  "metadata": {
    "colab": {
      "name": "Snippets_Vengadores_Drive.ipynb",
      "provenance": [],
      "collapsed_sections": [],
      "toc_visible": true
    },
    "kernelspec": {
      "display_name": "Python 3",
      "name": "python3"
    }
  },
  "cells": [
    {
      "cell_type": "markdown",
      "metadata": {
        "id": "u22w3BFiOveA"
      },
      "source": [
        "\n",
        "# Agregar Google Drive a la Maquina Virtual de Collab\n",
        "\n",
        "Aqui iniciaras sesion con tu cuenta de Google para poder tener el control de tus archivos"
      ]
    },
    {
      "cell_type": "code",
      "metadata": {
        "cellView": "form",
        "colab": {
          "base_uri": "https://localhost:8080/"
        },
        "id": "o83uqSWM8yFC",
        "outputId": "cd2e97ff-1a38-44fc-b78b-f2a50074082f"
      },
      "source": [
        "#@markdown <br><center><img src='https://upload.wikimedia.org/wikipedia/commons/thumb/d/da/Google_Drive_logo.png/600px-Google_Drive_logo.png' height=\"50\" alt=\"Gdrive-logo\"/></center>\n",
        "#@markdown <center><h3>Agregar Google Drive /content/drive</h3></center><br>\n",
        "MODO = \"MONTAR\" #@param [\"MONTAR\", \"DESMONTAR\"]\n",
        "#Mount your Gdrive! \n",
        "from google.colab import drive\n",
        "drive.mount._DEBUG = False\n",
        "if MODO == \"MONTAR\":\n",
        "  drive.mount('/content/drive', force_remount=True)\n",
        "elif MODO == \"DESMONTAR\":\n",
        "  try:\n",
        "    drive.flush_and_unmount()\n",
        "  except ValueError:\n",
        "    pass\n",
        "  get_ipython().system_raw(\"rm -rf /root/.config/Google/DriveFS\")"
      ],
      "execution_count": null,
      "outputs": [
        {
          "output_type": "stream",
          "text": [
            "Mounted at /content/drive\n"
          ],
          "name": "stdout"
        }
      ]
    },
    {
      "cell_type": "markdown",
      "metadata": {
        "id": "y6G60N6YCYvb"
      },
      "source": [
        "\n",
        "# Copiar contenido de Drive a Drive o Unidades\n",
        "\n"
      ]
    },
    {
      "cell_type": "markdown",
      "metadata": {
        "id": "qEJsKv8XTqF9"
      },
      "source": [
        "Archvos especificos"
      ]
    },
    {
      "cell_type": "code",
      "metadata": {
        "id": "ithkkmzhCrFa",
        "cellView": "form"
      },
      "source": [
        "#@markdown <br><center><img src='https://upload.wikimedia.org/wikipedia/commons/thumb/d/da/Google_Drive_logo.png/600px-Google_Drive_logo.png' height=\"50\" alt=\"Gdrive-logo\"/></center>\n",
        "#@markdown <center><h2>Copiar contenido entre Unidades</h2></center><br>\n",
        "Origen = \"\" #@param {type:\"string\"}\n",
        "Destino = \"\" #@param {type:\"string\"}\n",
        "import shutil\n",
        "\n",
        "# Copia el archivo desde la ubicación actual a la\n",
        "# carpeta \"Documentos\".\n",
        "shutil.copy(Origen, Destino)"
      ],
      "execution_count": null,
      "outputs": []
    },
    {
      "cell_type": "markdown",
      "metadata": {
        "id": "6DkGl6JfTvoZ"
      },
      "source": [
        "Carpetas o Directorios"
      ]
    },
    {
      "cell_type": "code",
      "metadata": {
        "id": "1fvQykndT0EX"
      },
      "source": [
        "cp -av \"origen\" \"destino\""
      ],
      "execution_count": null,
      "outputs": []
    },
    {
      "cell_type": "markdown",
      "metadata": {
        "id": "fVjCRbvgrf-_"
      },
      "source": [
        "# Descomprimir archivos en Google Drive\r\n",
        "\r\n",
        "\r\n"
      ]
    },
    {
      "cell_type": "code",
      "metadata": {
        "id": "6omJ6ngOrsRI",
        "cellView": "form"
      },
      "source": [
        "#@title Descomprimir archivos Rar\n",
        "Origen = \"\" #@param {type:\"string\"}\n",
        "Destino = \"\" #@param {type:\"string\"}\n",
        "!unrar x -Y {Origen} {Destino}"
      ],
      "execution_count": null,
      "outputs": []
    },
    {
      "cell_type": "code",
      "metadata": {
        "cellView": "form",
        "id": "G2ghk95wxdeA"
      },
      "source": [
        "#@title Descomprimir archivos Zip\n",
        "Origen = \"\" #@param {type:\"string\"}\n",
        "Destino = \"\" #@param {type:\"string\"}\n",
        "!unzip x -Y {Origen} {Destino}"
      ],
      "execution_count": null,
      "outputs": []
    },
    {
      "cell_type": "markdown",
      "metadata": {
        "id": "hUzy1uKX3Phk"
      },
      "source": [
        "#Comprime Archivos en Google Drive"
      ]
    },
    {
      "cell_type": "code",
      "metadata": {
        "cellView": "form",
        "id": "AYw_S78Q3ABN"
      },
      "source": [
        "#@title Compresor Rar\n",
        "!sudo apt-get install rar\n",
        "Carpeta = \"\" #@param {type:\"string\"}\n",
        "Nombre = \"\" #@param {type:\"string\"}\n",
        "!rar a \"{Nombre}\" \"{Carpeta}\"\n"
      ],
      "execution_count": null,
      "outputs": []
    },
    {
      "cell_type": "code",
      "metadata": {
        "cellView": "form",
        "id": "YBgTYiI8yDwN"
      },
      "source": [
        "#@title Compresor Zip\n",
        "!sudo apt-get install rar\n",
        "Carpeta = \"\" #@param {type:\"string\"}\n",
        "Nombre = \"\" #@param {type:\"string\"}\n",
        "!zip \"{Nombre}\" \"{Carpeta}\"\n"
      ],
      "execution_count": null,
      "outputs": []
    },
    {
      "cell_type": "markdown",
      "metadata": {
        "id": "79T9qiszD_qD"
      },
      "source": [
        "# Agregar Cuenta de Mega para Cuota de Transferencia"
      ]
    },
    {
      "cell_type": "code",
      "metadata": {
        "cellView": "form",
        "colab": {
          "background_save": true
        },
        "id": "MXo-1Ad2EATT"
      },
      "source": [
        "#@markdown <br><center><img src='https://mega.nz/favicon.ico?v=3' height=\"50\" alt=\"MEGA-logo\"/></center>\n",
        "# @markdown <center><h3>Inserta tu cuenta de Mega </h3></center><br>\n",
        "from functools import wraps\n",
        "import errno\n",
        "import os\n",
        "import signal\n",
        "import subprocess\n",
        "import shlex\n",
        "\n",
        "\n",
        "class TimeoutError(Exception):\n",
        "    pass\n",
        "\n",
        "\n",
        "def timeout(seconds=10, error_message=os.strerror(errno.ETIME)):\n",
        "    def decorator(func):\n",
        "        def _handle_timeout(signum, frame):\n",
        "            raise TimeoutError(error_message)\n",
        "\n",
        "        def wrapper(*args, **kwargs):\n",
        "            signal.signal(signal.SIGALRM, _handle_timeout)\n",
        "            signal.alarm(seconds)\n",
        "            try:\n",
        "                result = func(*args, **kwargs)\n",
        "            finally:\n",
        "                signal.alarm(0)\n",
        "            return result\n",
        "\n",
        "        return wraps(func)(wrapper)\n",
        "\n",
        "    return decorator\n",
        "\n",
        "\n",
        "if not os.path.exists(\"/root/.ipython/ocr.py\"):\n",
        "    from subprocess import run\n",
        "    from shlex import split\n",
        "\n",
        "    shellCmd = \"wget -qq https://raw.githubusercontent.com/biplobsd/OneClickRun/master/res/ocr.py \\\n",
        "                    -O /root/.ipython/ocr.py\"\n",
        "    run(split(shellCmd))\n",
        "from ocr import runSh\n",
        "\n",
        "@timeout(10)\n",
        "def runShT(args):\n",
        "    return runSh(args, output=True)\n",
        "\n",
        "\n",
        "# MEGAcmd installing\n",
        "if not os.path.exists(\"/usr/bin/mega-cmd\"):\n",
        "    print(\"Installing MEGA ...\")\n",
        "    runSh('sudo apt-get -y update')\n",
        "    runSh('sudo apt-get -y install libmms0 libc-ares2 libc6 libcrypto++6 libgcc1 libmediainfo0v5 libpcre3 libpcrecpp0v5 libssl1.1 libstdc++6 libzen0v5 zlib1g apt-transport-https')\n",
        "    runSh('sudo curl -sL -o /var/cache/apt/archives/MEGAcmd.deb https://mega.nz/linux/MEGAsync/Debian_9.0/amd64/megacmd-Debian_9.0_amd64.deb', output=True)\n",
        "    runSh('sudo dpkg -i /var/cache/apt/archives/MEGAcmd.deb', output=True)\n",
        "    print(\"MEGA is installed.\")\n",
        "else:\n",
        "    !pkill mega-cmd\n",
        "\n",
        "# INPUT YOUR MEGA ID\n",
        "\n",
        "USUARIO = \"\"  # @param {type:\"string\"}\n",
        "CONTRASEÑA = \"\"  # @param {type:\"string\"}\n",
        "USERNAME=USUARIO\n",
        "PASSWORD=CONTRASEÑA\n",
        "if not (USERNAME == \"\" or PASSWORD == \"\"):\n",
        "    try:\n",
        "        runShT(f\"mega-login {USERNAME} {PASSWORD}\")\n",
        "    except TimeoutError:\n",
        "        runSh('mega-whoami', output=True)\n",
        "else:\n",
        "    print(\"Porfavor Ingresa tu cuenta.\")\n",
        "# @markdown *Despues de ingresar tu cuenta, se usara tu cuota para las transferencia te sugerimos que uses una cuenta Pro de Mega, y recuerda google Drive tiene un limite de 750gb*"
      ],
      "execution_count": null,
      "outputs": []
    },
    {
      "cell_type": "markdown",
      "metadata": {
        "id": "__9Ejt75okE-"
      },
      "source": [
        "# Importar link de Mega a Drive"
      ]
    },
    {
      "cell_type": "markdown",
      "metadata": {
        "id": "g_xgZvadx3yH"
      },
      "source": [
        "# Importar Varios Links de Mega a Drive"
      ]
    },
    {
      "cell_type": "markdown",
      "metadata": {
        "id": "s4om9EUOyJfb"
      },
      "source": [
        "Debe agregar en el codigo la ruta de detino de su drive y abajo encontrara un array de links en ella colocar todos los links de mega que desea importar, estos deben estar con comillas y separados por comas (,)"
      ]
    },
    {
      "cell_type": "code",
      "metadata": {
        "id": "boWEKmzNx-Y4"
      },
      "source": [
        "import sys, os, urllib.request\r\n",
        "import time\r\n",
        "import subprocess\r\n",
        "import contextlib\r\n",
        "from IPython.display import clear_output\r\n",
        "HOME = os.path.expanduser(\"~\")\r\n",
        "if not os.path.exists(f\"{HOME}/.ipython/ocr.py\"):\r\n",
        "    hCode = \"https://raw.githubusercontent.com/biplobsd/\" \\\r\n",
        "                \"OneClickRun/master/res/ocr.py\"\r\n",
        "    urllib.request.urlretrieve(hCode, f\"{HOME}/.ipython/ocr.py\")\r\n",
        "\r\n",
        "from ocr import (\r\n",
        "    runSh,\r\n",
        "    loadingAn,\r\n",
        ")\r\n",
        "#@title MEGA public link downloa\r\n",
        "URL = \"LINK_DE_MEGA\"\r\n",
        "OUTPUT_PATH =\"/content/drive/Shareddrives/unidadcorta/Carpetacontitulo\" \r\n",
        "if not OUTPUT_PATH:\r\n",
        "  os.makedirs(\"downloads\", exist_ok=True)\r\n",
        "  OUTPUT_PATH = \"downloads\"\r\n",
        "# MEGAcmd installing\r\n",
        "if not os.path.exists(\"/usr/bin/mega-cmd\"):\r\n",
        "    loadingAn()\r\n",
        "    print(\"Installing MEGA ...\")\r\n",
        "    runSh('sudo apt-get -y update')\r\n",
        "    runSh('sudo apt-get -y install libmms0 libc-ares2 libc6 libcrypto++6 libgcc1 libmediainfo0v5 libpcre3 libpcrecpp0v5 libssl1.1 libstdc++6 libzen0v5 zlib1g apt-transport-https')\r\n",
        "    runSh('sudo curl -sL -o /var/cache/apt/archives/MEGAcmd.deb https://mega.nz/linux/MEGAsync/Debian_9.0/amd64/megacmd-Debian_9.0_amd64.deb', output=True)\r\n",
        "    runSh('sudo dpkg -i /var/cache/apt/archives/MEGAcmd.deb', output=True)\r\n",
        "    print(\"MEGA is installed.\")\r\n",
        "    clear_output()\r\n",
        "\r\n",
        "# Unix, Windows and old Macintosh end-of-line\r\n",
        "newlines = ['\\n', '\\r\\n', '\\r']\r\n",
        "\r\n",
        "def unbuffered(proc, stream='stdout'):\r\n",
        "    stream = getattr(proc, stream)\r\n",
        "    with contextlib.closing(stream):\r\n",
        "        while True:\r\n",
        "            out = []\r\n",
        "            last = stream.read(1)\r\n",
        "            # Don't loop forever\r\n",
        "            if last == '' and proc.poll() is not None:\r\n",
        "                break\r\n",
        "            while last not in newlines:\r\n",
        "                # Don't loop forever\r\n",
        "                if last == '' and proc.poll() is not None:\r\n",
        "                    break\r\n",
        "                out.append(last)\r\n",
        "                last = stream.read(1)\r\n",
        "            out = ''.join(out)\r\n",
        "            yield out\r\n",
        "\r\n",
        "\r\n",
        "def transfare(a):\r\n",
        "    import codecs\r\n",
        "    decoder = codecs.getincrementaldecoder(\"UTF-8\")()\r\n",
        "    cmd = [\"mega-get\", a, OUTPUT_PATH]\r\n",
        "    proc = subprocess.Popen(\r\n",
        "        cmd,\r\n",
        "        stdout=subprocess.PIPE,\r\n",
        "        stderr=subprocess.STDOUT,\r\n",
        "        # Make all end-of-lines '\\n'\r\n",
        "        universal_newlines=True,\r\n",
        "    )\r\n",
        "    for line in unbuffered(proc):\r\n",
        "        print(line)\r\n",
        "        \r\n",
        "links = [\r\n",
        "\"https://mega.nz/file/1KxGGCKK#QurHjx-VRtMjgqtJwFiQDF4AEpencdhfixsr0nXqb1M\"\r\n",
        "\"https://mega.nz/file/dapyBIIa#OrZVhLL-S2BO18D5SNaIBjSzDZlBewAkFIua2bS_tNQ\"\r\n",
        "\"https://mega.nz/file/9C5GkSbR#cB2jvNIJlXONxNnbXUsHsrbyolx5BghhAgaDnDsLnIo\"\r\n",
        "\r\n",
        "\r\n",
        "\r\n",
        "          ]\r\n",
        "for x in links:\r\n",
        "  transfare(x)\r\n",
        "\r\n",
        "\r\n",
        "\r\n"
      ],
      "execution_count": null,
      "outputs": []
    },
    {
      "cell_type": "code",
      "metadata": {
        "id": "Rj2i0LNAovy1",
        "cellView": "form"
      },
      "source": [
        "import sys, os, urllib.request\n",
        "import time\n",
        "import subprocess\n",
        "import contextlib\n",
        "from IPython.display import clear_output\n",
        "#@markdown <br><center><img src='https://mega.nz/favicon.ico?v=3' height=\"50\" alt=\"MEGA-logo\"/>---><img src='https://upload.wikimedia.org/wikipedia/commons/thumb/d/da/Google_Drive_logo.png/600px-Google_Drive_logo.png' height=\"50\" alt=\"Gdrive-logo\"/></center>\n",
        "\n",
        "\n",
        "#@markdown <center><h2>Transferir de Mega a Google Drive</h2></center><br>\n",
        "HOME = os.path.expanduser(\"~\")\n",
        "if not os.path.exists(f\"{HOME}/.ipython/ocr.py\"):\n",
        "    hCode = \"https://raw.githubusercontent.com/biplobsd/\" \\\n",
        "                \"OneClickRun/master/res/ocr.py\"\n",
        "    urllib.request.urlretrieve(hCode, f\"{HOME}/.ipython/ocr.py\")\n",
        "\n",
        "from ocr import (\n",
        "    runSh,\n",
        "    loadingAn,\n",
        ")\n",
        "#@title MEGA public link downloa\n",
        "LINK_DE_MEGA=\"\" #@param {type:\"string\"}\n",
        "RUTA_DESTINO=\"\" #@param {type:\"string\"}\n",
        "URL = LINK_DE_MEGA\n",
        "OUTPUT_PATH =RUTA_DESTINO \n",
        "if not OUTPUT_PATH:\n",
        "  os.makedirs(\"downloads\", exist_ok=True)\n",
        "  OUTPUT_PATH = \"downloads\"\n",
        "# MEGAcmd installing\n",
        "if not os.path.exists(\"/usr/bin/mega-cmd\"):\n",
        "    loadingAn()\n",
        "    print(\"Installing MEGA ...\")\n",
        "    runSh('sudo apt-get -y update')\n",
        "    runSh('sudo apt-get -y install libmms0 libc-ares2 libc6 libcrypto++6 libgcc1 libmediainfo0v5 libpcre3 libpcrecpp0v5 libssl1.1 libstdc++6 libzen0v5 zlib1g apt-transport-https')\n",
        "    runSh('sudo curl -sL -o /var/cache/apt/archives/MEGAcmd.deb https://mega.nz/linux/MEGAsync/Debian_9.0/amd64/megacmd-Debian_9.0_amd64.deb', output=True)\n",
        "    runSh('sudo dpkg -i /var/cache/apt/archives/MEGAcmd.deb', output=True)\n",
        "    print(\"MEGA is installed.\")\n",
        "    clear_output()\n",
        "\n",
        "# Unix, Windows and old Macintosh end-of-line\n",
        "newlines = ['\\n', '\\r\\n', '\\r']\n",
        "\n",
        "def unbuffered(proc, stream='stdout'):\n",
        "    stream = getattr(proc, stream)\n",
        "    with contextlib.closing(stream):\n",
        "        while True:\n",
        "            out = []\n",
        "            last = stream.read(1)\n",
        "            # Don't loop forever\n",
        "            if last == '' and proc.poll() is not None:\n",
        "                break\n",
        "            while last not in newlines:\n",
        "                # Don't loop forever\n",
        "                if last == '' and proc.poll() is not None:\n",
        "                    break\n",
        "                out.append(last)\n",
        "                last = stream.read(1)\n",
        "            out = ''.join(out)\n",
        "            yield out\n",
        "\n",
        "\n",
        "def transfare():\n",
        "    import codecs\n",
        "    decoder = codecs.getincrementaldecoder(\"UTF-8\")()\n",
        "    cmd = [\"mega-get\", URL, OUTPUT_PATH]\n",
        "    proc = subprocess.Popen(\n",
        "        cmd,\n",
        "        stdout=subprocess.PIPE,\n",
        "        stderr=subprocess.STDOUT,\n",
        "        # Make all end-of-lines '\\n'\n",
        "        universal_newlines=True,\n",
        "    )\n",
        "    for line in unbuffered(proc):\n",
        "        print(line)\n",
        "        \n",
        "\n",
        "\n",
        "transfare()\n",
        "\n"
      ],
      "execution_count": null,
      "outputs": []
    },
    {
      "cell_type": "markdown",
      "metadata": {
        "id": "46ys0SeqTiyj"
      },
      "source": [
        "Importar de Drive a Mega"
      ]
    },
    {
      "cell_type": "markdown",
      "metadata": {
        "id": "ZmkwPe_nwZWx"
      },
      "source": [
        "# Importar link de Drive a Drive"
      ]
    },
    {
      "cell_type": "code",
      "metadata": {
        "cellView": "form",
        "id": "wHt1Uuylwk09"
      },
      "source": [
        "#@markdown <br><center><img src='https://upload.wikimedia.org/wikipedia/commons/thumb/d/da/Google_Drive_logo.png/600px-Google_Drive_logo.png' height=\"50\" alt=\"MEGA-logo\"/>---><img src='https://upload.wikimedia.org/wikipedia/commons/thumb/d/da/Google_Drive_logo.png/600px-Google_Drive_logo.png' height=\"50\" alt=\"Gdrive-logo\"/></center>\r\n",
        "\r\n",
        "\r\n",
        "\r\n",
        "#@markdown <center><h2>Transferir de GDrive a GDrive</h2></center><br>\r\n",
        "\r\n",
        "URL = \"\" #@param {type:\"string\"}\r\n",
        "#@markdown <center><h5>Ruta por defecto: /content/downloads/</h5></center>\r\n",
        "#@markdown <center><h5>Para Google Drive usa una ruta de Drive, las unidades compartidas no funcionan: /content/drive/My Drive/</h5></center>\r\n",
        "OUTPUT_PATH = \"\" #@param {type:\"string\"}\r\n",
        "\r\n",
        "import pathlib\r\n",
        "import shutil\r\n",
        "import hashlib\r\n",
        "import requests\r\n",
        "from urllib.parse import urlparse\r\n",
        "from os import path, mkdir\r\n",
        "if not path.exists(\"/root/.ipython/ocr.py\"): \r\n",
        "    from subprocess import run\r\n",
        "    from shlex import split\r\n",
        "\r\n",
        "    shellCmd = \"wget -qq https://raw.githubusercontent.com/biplobsd/\" \\\r\n",
        "                \"OneClickRun/master/res/ocr.py \\\r\n",
        "                    -O /root/.ipython/ocr.py\"\r\n",
        "    run(split(shellCmd))\r\n",
        "from ocr import runSh\r\n",
        "\r\n",
        "def youtubedlInstall():\r\n",
        "  if not path.isfile(\"/usr/local/bin/youtube-dl\"):\r\n",
        "    cmdC = \"rm -rf /content/sample_data/ && \" \\\r\n",
        "            \" mkdir -p -m 666 /root/.YouTube-DL/ &&\" \\\r\n",
        "            \" apt-get install atomicparsley &&\" \\\r\n",
        "            \" curl -L https://yt-dl.org/downloads/latest/youtube-dl \" \\\r\n",
        "            \"-o /usr/local/bin/youtube-dl &&\" \\\r\n",
        "            \" chmod a+rx /usr/local/bin/youtube-dl\"\r\n",
        "    get_ipython().system_raw(cmdC)\r\n",
        "\r\n",
        "def aria2Install():\r\n",
        "  runSh('apt install -y aria2')\r\n",
        "\r\n",
        "def istmd(URL): \r\n",
        "  link = urlparse(URL)\r\n",
        "    \r\n",
        "  #YandexDisk\r\n",
        "  if link.netloc == \"yadi.sk\":\r\n",
        "    API_ENDPOINT = 'https://cloud-api.yandex.net/v1/disk/public/resources/' \\\r\n",
        "                    '?public_key={}&path=/{}&offset={}'\r\n",
        "    dry = False\r\n",
        "    def md5sum(file_path):\r\n",
        "        md5 = hashlib.md5()\r\n",
        "        with open(file_path, 'rb') as f:\r\n",
        "            for chunk in iter(lambda: f.read(128 * md5.block_size), b''):\r\n",
        "                md5.update(chunk)\r\n",
        "        return md5.hexdigest()\r\n",
        "\r\n",
        "\r\n",
        "    def check_and_download_file(target_path, url, size, checksum):\r\n",
        "        if path.isfile(target_path):\r\n",
        "            if size == path.getsize(target_path):\r\n",
        "                if checksum == md5sum(target_path):\r\n",
        "                    print('URL {}'.format(url))\r\n",
        "                    print('skipping correct {}'.format(target_path))\r\n",
        "                    return\r\n",
        "        if not dry:\r\n",
        "            print('URL {}'.format(url))\r\n",
        "            print('downloading {}'.format(target_path))\r\n",
        "            runSh(f'aria2c -x 16 -s 16 -k 1M -d {OUTPUT_PATH} {url}', output=True)\r\n",
        "            # r = requests.get(url, stream=True)\r\n",
        "            # with open(target_path, 'wb') as f:\r\n",
        "            #     shutil.copyfileobj(r.raw, f)\r\n",
        "\r\n",
        "\r\n",
        "    def download_path(target_path, public_key, source_path, offset=0):\r\n",
        "        print('getting \"{}\" at offset {}'.format(source_path, offset))\r\n",
        "        current_path = path.join(target_path, source_path)\r\n",
        "        pathlib.Path(current_path).mkdir(parents=True, exist_ok=True)\r\n",
        "        jsn = requests.get(API_ENDPOINT.format(public_key, source_path, offset)).json()\r\n",
        "        def try_as_file(j):\r\n",
        "            if 'file' in j:\r\n",
        "                file_save_path = path.join(current_path, j['name'])\r\n",
        "                check_and_download_file(file_save_path, j['file'], j['size'], j['md5'])\r\n",
        "                return True\r\n",
        "            return False\r\n",
        "\r\n",
        "        # first try to treat the actual json as a single file description\r\n",
        "        if try_as_file(jsn):\r\n",
        "            return\r\n",
        "\r\n",
        "        # otherwise treat it as a directory\r\n",
        "        emb = jsn['_embedded']\r\n",
        "        items = emb['items']\r\n",
        "        for i in items:\r\n",
        "            # each item can be a file...\r\n",
        "            if try_as_file(i):\r\n",
        "                continue\r\n",
        "            # ... or a directory\r\n",
        "            else:\r\n",
        "                subdir_path = path.join(source_path, i['name'])\r\n",
        "                download_path(target_path, public_key, subdir_path)\r\n",
        "\r\n",
        "        # check if current directory has more items\r\n",
        "        last = offset + emb['limit']\r\n",
        "        if last < emb['total']:\r\n",
        "            download_path(target_path, public_key, source_path, last)\r\n",
        "    download_path(OUTPUT_PATH, URL, '')\r\n",
        "    return False  \r\n",
        "  return URL\r\n",
        "\r\n",
        "if not OUTPUT_PATH:\r\n",
        "  OUTPUT_PATH = \"/content/downloads/\"\r\n",
        "  \r\n",
        "if not URL == \"\":\r\n",
        "  aria2Install()\r\n",
        "  youtubedlInstall()\r\n",
        "  try:\r\n",
        "    mkdir(\"downloads\")\r\n",
        "  except FileExistsError:\r\n",
        "    pass\r\n",
        "  url = istmd(URL)\r\n",
        "  if url != False:\r\n",
        "    print('URL {}'.format(URL))\r\n",
        "    cmdC = f'youtube-dl -o \"{OUTPUT_PATH}/%(title)s\" {URL} ' \\\r\n",
        "            '--external-downloader aria2c ' \\\r\n",
        "            '--external-downloader-args \"-x 16 -s 16 -k 1M\"'\r\n",
        "    runSh(cmdC, output=True)\r\n",
        "else:\r\n",
        "  print(\"Please input url\")\r\n"
      ],
      "execution_count": null,
      "outputs": []
    },
    {
      "cell_type": "markdown",
      "metadata": {
        "id": "f2y3BHWVURip"
      },
      "source": [
        "# IMPORTAR DE DRIVE A MEGA"
      ]
    },
    {
      "cell_type": "code",
      "metadata": {
        "id": "v66bChIgUbsF",
        "cellView": "form"
      },
      "source": [
        "import time\n",
        "import subprocess\n",
        "import contextlib\n",
        "from IPython.display import clear_output\n",
        "# @markdown <br><center><img src='https://i.imgur.com/UjCRbEF.png' height=\"300\" alt=\"netdata\"/></center>\n",
        "# @markdown <center><h2>TRANSFER NOW</h2></center><br>\n",
        "# TRANSFER NOW\n",
        "\n",
        "RUTA_DEL_ARCHIVO_DE_DRIVE = \"\"  # @param {type:\"string\"}\n",
        "PATH_TO_FILE=RUTA_DEL_ARCHIVO_DE_DRIVE\n",
        "# Unix, Windows and old Macintosh end-of-line\n",
        "\n",
        "newlines = ['\\n', '\\r\\n', '\\r']\n",
        "\n",
        "\n",
        "def unbuffered(proc, stream='stdout'):\n",
        "    stream = getattr(proc, stream)\n",
        "    with contextlib.closing(stream):\n",
        "        while True:\n",
        "            out = []\n",
        "            last = stream.read(1)\n",
        "            # Don't loop forever\n",
        "            if last == '' and proc.poll() is not None:\n",
        "                break\n",
        "            while last not in newlines:\n",
        "                # Don't loop forever\n",
        "                if last == '' and proc.poll() is not None:\n",
        "                    break\n",
        "                out.append(last)\n",
        "                last = stream.read(1)\n",
        "            out = ''.join(out)\n",
        "            yield out\n",
        "\n",
        "\n",
        "def transfare():\n",
        "    cmd = ['mega-put', PATH_TO_FILE, '/colab']\n",
        "    proc = subprocess.Popen(\n",
        "        cmd,\n",
        "        stdout=subprocess.PIPE,\n",
        "        stderr=subprocess.STDOUT,\n",
        "        # Make all end-of-lines '\\n'\n",
        "        universal_newlines=True,\n",
        "    )\n",
        "    for line in unbuffered(proc):\n",
        "        clear_output(wait=True)\n",
        "        print(line)\n",
        "\n",
        "try:\n",
        "    transfare()\n",
        "except FileNotFoundError:\n",
        "    print(\"Login your account!\")\n"
      ],
      "execution_count": null,
      "outputs": []
    }
  ]
}
